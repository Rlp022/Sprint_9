{
 "cells": [
  {
   "cell_type": "markdown",
   "metadata": {},
   "source": [
    "# Predicting Ideal Locations for Wells"
   ]
  },
  {
   "cell_type": "markdown",
   "metadata": {},
   "source": [
    "## Introduction"
   ]
  },
  {
   "cell_type": "markdown",
   "metadata": {},
   "source": [
    "The OilyGiant Mining Company plans to construct a new well and seeks to determine which area has the highest potential for oil production and profit. They have data on oil reserves in three specific regions. To identify the most promising location, a linear regression model will be developed for each region.\n",
    "\n",
    "Three separate models, one for each region, will be trained using the dataset. These models will then be applied to a validation dataset to predict oil reserve levels. Using the top 200 oil reserves, potential profits will be calculated based on the validation dataset. After processing and analyzing this initial data, the average profit distribution for each location will be determined.\n",
    "\n",
    "For each region, we will compute and display the average profit, 95% confidence interval, and risk of loss. Based on these calculations, we will select the most advantageous area for OilyGiant to construct their new well."
   ]
  },
  {
   "cell_type": "markdown",
   "metadata": {},
   "source": [
    "## Load Libraries"
   ]
  },
  {
   "cell_type": "code",
   "execution_count": 34,
   "metadata": {},
   "outputs": [],
   "source": [
    "# Import the necessary libraries\n",
    "\n",
    "import pandas as pd\n",
    "import numpy as np\n",
    "import matplotlib.pyplot as plt\n",
    "from sklearn.linear_model import LinearRegression\n",
    "from sklearn.model_selection import train_test_split\n",
    "from sklearn.metrics import mean_squared_error\n",
    "\n",
    "# Import library for formatting currency\n",
    "import locale\n",
    "\n",
    "# Hide warning messages\n",
    "import warnings\n",
    "warnings.filterwarnings('ignore')"
   ]
  },
  {
   "cell_type": "markdown",
   "metadata": {},
   "source": [
    "## Load Data"
   ]
  },
  {
   "cell_type": "markdown",
   "metadata": {},
   "source": [
    "The CSV files geo_data_0.csv, geo_data_1.csv, and geo_data_2.csv will be read and stored into DataFrames as shown below."
   ]
  },
  {
   "cell_type": "code",
   "execution_count": 11,
   "metadata": {},
   "outputs": [],
   "source": [
    "df_0 = pd.read_csv('/datasets/geo_data_0.csv')\n",
    "df_1 = pd.read_csv('/datasets/geo_data_1.csv')\n",
    "df_2 = pd.read_csv('/datasets/geo_data_2.csv')"
   ]
  },
  {
   "cell_type": "markdown",
   "metadata": {},
   "source": [
    "## Explore Data"
   ]
  },
  {
   "cell_type": "markdown",
   "metadata": {},
   "source": [
    "Let's examine the data contained in each of the three DataFrames. We will print the first 15 rows of each DataFrame, followed by a summary and general information about each one."
   ]
  },
  {
   "cell_type": "code",
   "execution_count": 12,
   "metadata": {},
   "outputs": [
    {
     "name": "stdout",
     "output_type": "stream",
     "text": [
      "df_0:\n",
      "       id        f0        f1        f2     product\n",
      "0   txEyH  0.705745 -0.497823  1.221170  105.280062\n",
      "1   2acmU  1.334711 -0.340164  4.365080   73.037750\n",
      "2   409Wp  1.022732  0.151990  1.419926   85.265647\n",
      "3   iJLyR -0.032172  0.139033  2.978566  168.620776\n",
      "4   Xdl7t  1.988431  0.155413  4.751769  154.036647\n",
      "5   wX4Hy  0.969570  0.489775 -0.735383   64.741541\n",
      "6   tL6pL  0.645075  0.530656  1.780266   49.055285\n",
      "7   BYPU6 -0.400648  0.808337 -5.624670   72.943292\n",
      "8   j9Oui  0.643105 -0.551583  2.372141  113.356160\n",
      "9   OLuZU  2.173381  0.563698  9.441852  127.910945\n",
      "10  b8WQ6  0.371066 -0.036585  0.009208   70.326617\n",
      "11  1YYm1  0.015920  1.062729 -0.722248   45.110381\n",
      "12  zIYPq -0.276476  0.924865  0.095584   89.158678\n",
      "13  iqTqq  0.212696 -0.111147  5.770095  164.298520\n",
      "14  Ct5yY -0.018578  0.187516  2.944683  158.633720\n",
      "\n",
      "df_1:\n",
      "       id         f0         f1        f2     product\n",
      "0   kBEdx -15.001348  -8.276000 -0.005876    3.179103\n",
      "1   62mP7  14.272088  -3.475083  0.999183   26.953261\n",
      "2   vyE1P   6.263187  -5.948386  5.001160  134.766305\n",
      "3   KcrkZ -13.081196 -11.506057  4.999415  137.945408\n",
      "4   AHL4O  12.702195  -8.147433  5.004363  134.766305\n",
      "5   HHckp  -3.327590  -2.205276  3.003647   84.038886\n",
      "6   h5Ujo -11.142655 -10.133399  4.002382  110.992147\n",
      "7   muH9x   4.234715  -0.001354  2.004588   53.906522\n",
      "8   YiRkx  13.355129  -0.332068  4.998647  134.766305\n",
      "9   jG6Gi   1.069227 -11.025667  4.997844  137.945408\n",
      "10  7uHUe  11.777049  -5.334084  2.003033   53.906522\n",
      "11  OXyvW  16.320755  -0.562946 -0.001783    0.000000\n",
      "12  cB8re   7.736313  -6.093374  3.982531  107.813044\n",
      "13  igmai   6.695604  -0.749449 -0.007630    0.000000\n",
      "14  3OdkE -10.985487  -5.605994  2.991130   84.038886\n",
      "\n",
      "df_2:\n",
      "       id        f0        f1        f2     product\n",
      "0   fwXo0 -1.146987  0.963328 -0.828965   27.758673\n",
      "1   WJtFt  0.262778  0.269839 -2.530187   56.069697\n",
      "2   ovLUW  0.194587  0.289035 -5.586433   62.871910\n",
      "3   q6cA6  2.236060 -0.553760  0.930038  114.572842\n",
      "4   WPMUX -0.515993  1.716266  5.899011  149.600746\n",
      "5   LzZXx -0.758092  0.710691  2.585887   90.222465\n",
      "6   WBHRv -0.574891  0.317727  1.773745   45.641478\n",
      "7   XO8fn -1.906649 -2.458350 -0.177097   72.480640\n",
      "8   ybmQ5  1.776292 -0.279356  3.004156  106.616832\n",
      "9   OilcN -1.214452 -0.439314  5.922514   52.954532\n",
      "10  myq2g  0.628659 -2.120049  5.362437  166.799132\n",
      "11  V9R1y -0.544565  0.039088  8.635293  150.859435\n",
      "12  bKDo0 -0.960453 -0.127113  7.764734   96.910855\n",
      "13  eXvhs  1.432891 -1.242074  3.557168    8.704162\n",
      "14  wI4j3 -0.935464  2.420523  1.150536  116.829811\n",
      "\n"
     ]
    }
   ],
   "source": [
    "datasets = [df_0, df_1, df_2]\n",
    "\n",
    "for i in range(len(datasets)):\n",
    "    print('df_'+ str(i)+ ':')\n",
    "    print(datasets[i].head(15))\n",
    "    print()"
   ]
  },
  {
   "cell_type": "code",
   "execution_count": 13,
   "metadata": {},
   "outputs": [
    {
     "name": "stdout",
     "output_type": "stream",
     "text": [
      "df_0:\n",
      "<class 'pandas.core.frame.DataFrame'>\n",
      "RangeIndex: 100000 entries, 0 to 99999\n",
      "Data columns (total 5 columns):\n",
      " #   Column   Non-Null Count   Dtype  \n",
      "---  ------   --------------   -----  \n",
      " 0   id       100000 non-null  object \n",
      " 1   f0       100000 non-null  float64\n",
      " 2   f1       100000 non-null  float64\n",
      " 3   f2       100000 non-null  float64\n",
      " 4   product  100000 non-null  float64\n",
      "dtypes: float64(4), object(1)\n",
      "memory usage: 3.8+ MB\n",
      "None\n",
      "\n",
      "df_1:\n",
      "<class 'pandas.core.frame.DataFrame'>\n",
      "RangeIndex: 100000 entries, 0 to 99999\n",
      "Data columns (total 5 columns):\n",
      " #   Column   Non-Null Count   Dtype  \n",
      "---  ------   --------------   -----  \n",
      " 0   id       100000 non-null  object \n",
      " 1   f0       100000 non-null  float64\n",
      " 2   f1       100000 non-null  float64\n",
      " 3   f2       100000 non-null  float64\n",
      " 4   product  100000 non-null  float64\n",
      "dtypes: float64(4), object(1)\n",
      "memory usage: 3.8+ MB\n",
      "None\n",
      "\n",
      "df_2:\n",
      "<class 'pandas.core.frame.DataFrame'>\n",
      "RangeIndex: 100000 entries, 0 to 99999\n",
      "Data columns (total 5 columns):\n",
      " #   Column   Non-Null Count   Dtype  \n",
      "---  ------   --------------   -----  \n",
      " 0   id       100000 non-null  object \n",
      " 1   f0       100000 non-null  float64\n",
      " 2   f1       100000 non-null  float64\n",
      " 3   f2       100000 non-null  float64\n",
      " 4   product  100000 non-null  float64\n",
      "dtypes: float64(4), object(1)\n",
      "memory usage: 3.8+ MB\n",
      "None\n",
      "\n"
     ]
    }
   ],
   "source": [
    "datasets = [df_0, df_1, df_2]\n",
    "\n",
    "for i in range(len(datasets)):\n",
    "    print('df_'+ str(i)+ ':')\n",
    "    print(datasets[i].info())\n",
    "    print()"
   ]
  },
  {
   "cell_type": "markdown",
   "metadata": {},
   "source": [
    "After reviewing the dataset previews and summaries, it appears that no preprocessing is necessary. There are no missing values, and each column's datatype is accurate. Therefore, we will proceed without altering the data.\n",
    "\n",
    "It's important to note that the column names are not descriptive. However, the OilyGiant Mining Corporation has assured us that the features have already been prepared for model training, so their precise meanings are not relevant for this task."
   ]
  },
  {
   "cell_type": "markdown",
   "metadata": {},
   "source": [
    "## Feature Prep"
   ]
  },
  {
   "cell_type": "markdown",
   "metadata": {},
   "source": [
    "It should be noted that each of the three datasets includes an individual identification string for each oil resource in the 'id' column. Since the values in the 'id' column are strings, they cannot be used in a linear regression model. Therefore, it is advisable to remove the 'id' column from each dataset before training the models. The following code block will remove the 'id' column from all three datasets."
   ]
  },
  {
   "cell_type": "code",
   "execution_count": 14,
   "metadata": {},
   "outputs": [],
   "source": [
    "df_0 = df_0.drop('id', axis=1)\n",
    "df_1 = df_1.drop('id', axis=1)\n",
    "df_2 = df_2.drop('id', axis=1)"
   ]
  },
  {
   "cell_type": "markdown",
   "metadata": {},
   "source": [
    "The provided code removes the 'id' column from three DataFrames: df_0, df_1, and df_2. Each line uses the drop method to eliminate the 'id' column, specifying axis=1 to indicate that the operation should be performed on columns. The modified DataFrame, without the 'id' column, is then reassigned to its respective variable. This step is necessary because the 'id' column contains string values that cannot be utilized in a linear regression model. By removing the 'id' column from all three DataFrames, the data is prepared for model training."
   ]
  },
  {
   "cell_type": "markdown",
   "metadata": {},
   "source": [
    "## Modeling"
   ]
  },
  {
   "cell_type": "markdown",
   "metadata": {},
   "source": [
    "Now that each dataset contains only numeric values, we can divide the data into training and validation datasets. Each dataset will be split into a training set and a validation set in a 3:1 ratio. This means the validation set will contain 25% of the total data, while the training set for each region will have 75% of it. The following code block will use the train_test_split function from the sklearn.model_selection module to perform this division."
   ]
  },
  {
   "cell_type": "code",
   "execution_count": 15,
   "metadata": {},
   "outputs": [],
   "source": [
    "# Create the training, validation, and testing datasets\n",
    "# The datasets will be split 75% and 25% for a ratio of 3:1\n",
    "\n",
    "# Initializing DataFrame features for each region\n",
    "df_0_features = df_0.drop('product', axis=1)\n",
    "df_1_features = df_1.drop('product', axis=1)\n",
    "df_2_features = df_2.drop('product', axis=1)\n",
    "\n",
    "# Initializing DataFrame targets for each region\n",
    "df_0_target = df_0['product']\n",
    "df_1_target = df_1['product']\n",
    "df_2_target = df_2['product']\n",
    "\n",
    "# Split the feature and target datasets for each DataFrame into training and validation datasets\n",
    "# The test_size will be 0.25 so that the validation dataset contains 25% of the data\n",
    "# and the training dataset contains 75% of the data\n",
    "features_train_0, features_valid_0, target_train_0, target_valid_0 = train_test_split(df_0_features, df_0_target, test_size=0.25)\n",
    "features_train_1, features_valid_1, target_train_1, target_valid_1 = train_test_split(df_1_features, df_1_target, test_size=0.25)\n",
    "features_train_2, features_valid_2, target_train_2, target_valid_2 = train_test_split(df_2_features, df_2_target, test_size=0.25)\n"
   ]
  },
  {
   "cell_type": "markdown",
   "metadata": {},
   "source": [
    "The code prepares the datasets for training and validation by first separating the features and target variables for each of the three DataFrames (df_0, df_1, and df_2). The 'product' column, which represents the target variable, is removed from each DataFrame and stored separately. The remaining columns, which contain the features, are stored in df_0_features, df_1_features, and df_2_features. The target variables are stored in df_0_target, df_1_target, and df_2_target. Using the train_test_split function from the sklearn.model_selection module, each set of features and targets is then split into training and validation datasets with a 3:1 ratio. This means 75% of the data is used for training, while 25% is used for validation. The resulting training and validation datasets for features and targets are stored in variables such as features_train_0, features_valid_0, target_train_0, and target_valid_0 for each region."
   ]
  },
  {
   "cell_type": "markdown",
   "metadata": {},
   "source": [
    "### Training Logistic Regression Models"
   ]
  },
  {
   "cell_type": "markdown",
   "metadata": {},
   "source": [
    "The training and validation datasets have been split for each region, it's time to train the models. A separate model will be trained for each regional dataset using a Linear Regression model, which is suitable for predicting precise values in a continuous range. This is not a binary classification task, so Logistic Regression would not be appropriate. The following cells will initialize a Linear Regression model, fit the model to the training data, predict target values for the validation dataset, and then output the average volume of predicted oil reserves along with the Root Mean Square Error (RMSE)."
   ]
  },
  {
   "cell_type": "markdown",
   "metadata": {},
   "source": [
    "### Region 0 dataset"
   ]
  },
  {
   "cell_type": "code",
   "execution_count": 16,
   "metadata": {},
   "outputs": [
    {
     "name": "stdout",
     "output_type": "stream",
     "text": [
      "Average volume of predicted reserves: 92.767 thousand barrels\n",
      "RMSE of the linear regression model on the validation set: 37.933\n"
     ]
    }
   ],
   "source": [
    "# Create an instance of a LogisticRegression model\n",
    "model = LinearRegression()\n",
    "\n",
    "# Fit the model using the training data\n",
    "model.fit(features_train_0, target_train_0)\n",
    "\n",
    "# Predict the target values of the validation features\n",
    "predicted_valid_0 = model.predict(features_valid_0)\n",
    "\n",
    "# Calculate and print the average volumne of predicted reserves and model RMSE\n",
    "result = mean_squared_error(target_valid_0, predicted_valid_0)**0.5\n",
    "print(f'Average volume of predicted reserves: {round(predicted_valid_0.mean(),3)} thousand barrels')\n",
    "print(\"RMSE of the linear regression model on the validation set:\", round(result,3))"
   ]
  },
  {
   "cell_type": "markdown",
   "metadata": {},
   "source": [
    "The code initializes and trains a Linear Regression model to predict oil reserves for a validation dataset. After creating an instance of the model, it is trained using the training data. Predictions are then made on the validation dataset, and the results are evaluated. The average volume of the predicted oil reserves is found to be 92.611 thousand barrels, indicating the mean of the model's predictions. The Root Mean Square Error (RMSE), which measures the average deviation of the predicted values from the actual values, is 37.823. This RMSE value indicates the model's predictive accuracy, with a lower value suggesting better performance. Overall, the model provides an estimate of oil reserves with a moderate level of error."
   ]
  },
  {
   "cell_type": "markdown",
   "metadata": {},
   "source": [
    "### Region 1 dataset"
   ]
  },
  {
   "cell_type": "code",
   "execution_count": 17,
   "metadata": {},
   "outputs": [
    {
     "name": "stdout",
     "output_type": "stream",
     "text": [
      "Average volume of predicted reserves: 68.807 thousand barrels\n",
      "RMSE of the linear regression model on the validation set: 0.898\n"
     ]
    }
   ],
   "source": [
    "# Create an instance of a LogisticRegression model\n",
    "model = LinearRegression()\n",
    "\n",
    "# Fit the model using the training data\n",
    "model.fit(features_train_1, target_train_1)\n",
    "\n",
    "# Predict the target values of the validation features\n",
    "predicted_valid_1 = model.predict(features_valid_1)\n",
    "\n",
    "# Calculate and print the average volumne of predicted reserves and model RMSE\n",
    "result = mean_squared_error(target_valid_1, predicted_valid_1)**0.5\n",
    "print(f'Average volume of predicted reserves: {round(predicted_valid_1.mean(),3)} thousand barrels')\n",
    "print(\"RMSE of the linear regression model on the validation set:\", round(result,3))"
   ]
  },
  {
   "cell_type": "markdown",
   "metadata": {},
   "source": [
    "The code trains a Linear Regression model to predict oil reserves for a validation dataset. After initializing the model, it is fitted using the training data (features_train_1 and target_train_1). Predictions are then made on the validation data (features_valid_1), and the results are evaluated. The mean of the predicted oil reserves is calculated to be 68.462 thousand barrels, indicating the average volume predicted by the model. The Root Mean Square Error (RMSE) is computed as 0.895, reflecting the average difference between the predicted and actual values in the validation set. A lower RMSE value signifies higher predictive accuracy, suggesting that the model's predictions are quite close to the actual values. Overall, the model provides an accurate estimate of oil reserves for the validation dataset."
   ]
  },
  {
   "cell_type": "markdown",
   "metadata": {},
   "source": [
    "### Region 2 dataset"
   ]
  },
  {
   "cell_type": "code",
   "execution_count": 18,
   "metadata": {},
   "outputs": [
    {
     "name": "stdout",
     "output_type": "stream",
     "text": [
      "Average volume of predicted reserves: 94.901 thousand barrels\n",
      "RMSE of the linear regression model on the validation set: 40.209\n"
     ]
    }
   ],
   "source": [
    "# Create an instance of a LogisticRegression model\n",
    "model = LinearRegression()\n",
    "\n",
    "# Fit the model using the training data\n",
    "model.fit(features_train_2, target_train_2)\n",
    "\n",
    "# Predict the target values of the validation features\n",
    "predicted_valid_2 = model.predict(features_valid_2)\n",
    "\n",
    "# Calculate and print the average volumne of predicted reserves and model RMSE\n",
    "result = mean_squared_error(target_valid_2, predicted_valid_2)**0.5\n",
    "print(f'Average volume of predicted reserves: {round(predicted_valid_2.mean(),3)} thousand barrels')\n",
    "print(\"RMSE of the linear regression model on the validation set:\", round(result,3))"
   ]
  },
  {
   "cell_type": "markdown",
   "metadata": {},
   "source": [
    "The code trains a Linear Regression model to predict oil reserves for the third region's validation dataset. After initializing the model, it is trained using the data from features_train_2 and target_train_2. The model then predicts the oil reserve values for features_valid_2. The mean of these predicted reserves is 95.213 thousand barrels, indicating the average volume predicted by the model. The Root Mean Square Error (RMSE) is calculated to be 40.111, which measures the average deviation of the predicted values from the actual values in the validation set. This RMSE value suggests that there is a moderate level of error in the predictions, meaning the predicted reserves are reasonably close to the actual values but with some variability. Overall, the model provides an estimate of oil reserves with a moderate accuracy for the validation dataset."
   ]
  },
  {
   "cell_type": "markdown",
   "metadata": {},
   "source": [
    "### Summary"
   ]
  },
  {
   "cell_type": "markdown",
   "metadata": {},
   "source": [
    "The Linear Regression models were trained to predict oil reserves for three different validation datasets. In the first region, the model predicts an average reserve volume of 92.611 thousand barrels with a Root Mean Square Error (RMSE) of 37.823, indicating moderate predictive accuracy. For the second region, the model forecasts an average reserve volume of 68.462 thousand barrels with a significantly lower RMSE of 0.895, demonstrating high accuracy and close alignment with actual values. In the third region, the model estimates an average reserve volume of 95.213 thousand barrels with an RMSE of 40.111, suggesting moderate accuracy with some variability. Overall, the models exhibit varying levels of accuracy in estimating oil reserves, with the second region's model showing the highest predictive precision."
   ]
  },
  {
   "cell_type": "markdown",
   "metadata": {},
   "source": [
    "## Profit calculation"
   ]
  },
  {
   "cell_type": "markdown",
   "metadata": {},
   "source": [
    "### Determine the minimum oil production required to break-even"
   ]
  },
  {
   "cell_type": "markdown",
   "metadata": {},
   "source": [
    "Analyzing the potential profit from each region, we need to determine the number of thousands of barrels of oil required for OilyGiant Mining Company to avoid operating at a loss. The cell block below will calculate the necessary number of units, or thousands of barrels, that the oil reserve must yield for OilyGiant to be profitable. This calculation is performed by dividing OilyGiant's total budget of 100 million USD for constructing 200 oil wells by the revenue generated from one unit of oil, which is 4,500 USD."
   ]
  },
  {
   "cell_type": "code",
   "execution_count": 19,
   "metadata": {},
   "outputs": [
    {
     "name": "stdout",
     "output_type": "stream",
     "text": [
      "A total of 22222.22 thousand barrels are required to avoid building/operating without losses.\n",
      "Requires approximately 111.11 thousand barrels per reserve.\n"
     ]
    }
   ],
   "source": [
    "# Initialize constant variables\n",
    "# The revenue from one unit is 4,500 USD (one-thousand barrels)\n",
    "# The budget for development of 200 oil wells is $100,000,000\n",
    "# The revenue from 200 oil wells needs to exceed $100,000,000\n",
    "\n",
    "budget = 100_000_000\n",
    "unit_revenue = 4_500\n",
    "\n",
    "# Volume of reserves without losses:\n",
    "sufficient_volume = budget/unit_revenue\n",
    "\n",
    "#print results \n",
    "print(f'A total of {round(sufficient_volume,2)} thousand barrels are required to avoid building/operating without losses.')\n",
    "print(f'Requires approximately {round((sufficient_volume / 200), 2)} thousand barrels per reserve.')"
   ]
  },
  {
   "cell_type": "markdown",
   "metadata": {},
   "source": [
    "To determine the volume of oil reserves needed for OilyGiant Mining Company to avoid losses, we initialize constant variables: the revenue from one unit (4,500 USD for one thousand barrels) and the budget for developing 200 oil wells (100,000,000 USD). The calculation involves dividing the total budget by the revenue generated per unit to find the sufficient volume of reserves required. The result indicates that a total of 22,222.22 thousand barrels are needed to avoid operating at a loss. This equates to approximately 111.11 thousand barrels per oil well. The calculated figures ensure that the revenue from the 200 oil wells will exceed the initial budget, thus achieving profitability."
   ]
  },
  {
   "cell_type": "markdown",
   "metadata": {},
   "source": [
    "### Calculate potential profit from predicted values"
   ]
  },
  {
   "cell_type": "markdown",
   "metadata": {},
   "source": [
    "Let's calculate the profit that OilyGiant could earn based on the anticipated oil reserve volumes from each region. To do this, we will develop a function that accepts the volume predictions and the sample size of oil wells from each region as arguments. The function will focus on the largest 200 oil wells from each region to compute OilyGiant's profit. First, the predictions from each region will be sorted in descending order, and the top 200 values will be extracted from the predictions series. These 200 values will be summed to obtain a total, which will then be multiplied by 4,500 USD to derive the total revenue. Finally, to obtain the final profit figure, OilyGiant's budget will be subtracted from the product of the total reserve volume and revenue per unit. Additionally, the target number of oil barrels that must be produced will be displayed alongside the anticipated profit for OilyGiant."
   ]
  },
  {
   "cell_type": "code",
   "execution_count": 26,
   "metadata": {},
   "outputs": [
    {
     "name": "stdout",
     "output_type": "stream",
     "text": [
      "Profit from Region 0: $34,016,416.06\n",
      "Target oil reserve volume: 29781.43 thousand barrels\n",
      "\n",
      "Profit from Region 1: $24,150,866.97\n",
      "Target oil reserve volume: 27589.08 thousand barrels\n",
      "\n",
      "Profit from Region 2: $26,847,930.01\n",
      "Target oil reserve volume: 28188.43 thousand barrels\n",
      "\n"
     ]
    }
   ],
   "source": [
    "# Create a function to calculate the profit from the predicted target values of each region\n",
    "# Initialize function - takes 'predictions' and 'count' as parameters\n",
    "\n",
    "def get_profit(targets, predictions, count):\n",
    "    '''Function will calculate the potential profit based on predicted oil reserve volumes for each region'''\n",
    "    \n",
    "    # Sort the predicted volumes from largest to smallest\n",
    "    predictions_sorted = predictions.sort_values(ascending=False)[:count]\n",
    "    \n",
    "    # Select the largest 200 oil reserve volumes for each region\n",
    "    selected_wells = targets[predictions_sorted.index]\n",
    "    \n",
    "    # Calculate the profit based on one unit producing a revenue of $4,500\n",
    "    # Subtract the budget of $100,000,000 from the total revenue\n",
    "    profit = (4500 * selected_wells.sum()) - budget\n",
    "    \n",
    "    # Return the profit value\n",
    "    return round(profit,2)\n",
    "\n",
    "\n",
    "# Run the function below\n",
    "\n",
    "\n",
    "# Create a list of the predicted values and actual values\n",
    "predictions = [pd.Series(predicted_valid_0), pd.Series(predicted_valid_1), pd.Series(predicted_valid_2)]\n",
    "targets = [target_valid_0.reset_index(drop=True) , target_valid_1.reset_index(drop=True), target_valid_2.reset_index(drop=True)]\n",
    "profit = []\n",
    "\n",
    "\n",
    "\n",
    "# For loop for executing the get_profit function for the predicted datasets of each region\n",
    "# Store profit values into the profits list\n",
    "for i in range(len(predictions)):\n",
    "    profit.append(get_profit(targets[i], predictions[i], 200))\n",
    "\n",
    "# Set local currency to USD\n",
    "locale.setlocale(locale.LC_ALL, '')\n",
    "    \n",
    "# Print each profit value\n",
    "for i in range(len(profit)):\n",
    "    print(f'Profit from Region {i}: {locale.currency(profit[i], grouping=True)}')\n",
    "    print(f'Target oil reserve volume: {round((profit[i] + 100_000_000) / 4500,2)} thousand barrels\\n')"
   ]
  },
  {
   "cell_type": "code",
   "execution_count": 41,
   "metadata": {},
   "outputs": [
    {
     "data": {
      "image/png": "[encoded data removed]",
      "text/plain": [
       "<Figure size 640x480 with 1 Axes>"
      ]
     },
     "metadata": {},
     "output_type": "display_data"
    }
   ],
   "source": [
    "# Given data\n",
    "profits = [34_016_416.06, 24_150_866.97, 26_847_930.01]\n",
    "regions = ['Region 0', 'Region 1', 'Region 2']\n",
    "\n",
    "# Plotting the histogram\n",
    "fig, ax = plt.subplots()\n",
    "\n",
    "# Bar plot for profits\n",
    "ax.bar(regions, profits, color=['blue', 'green', 'red'], edgecolor='black')\n",
    "\n",
    "# Adding labels and title\n",
    "ax.set_ylabel('Profit (in dollars)')\n",
    "ax.set_xlabel('Regions')\n",
    "ax.set_title('Profit by Region')\n",
    "\n",
    "# Display the plot\n",
    "plt.tight_layout()\n",
    "plt.show()"
   ]
  },
  {
   "attachments": {},
   "cell_type": "markdown",
   "metadata": {},
   "source": [
    "Region 0 (Blue Bar):\n",
    "\n",
    "Profit: $34,016,416.06\n",
    "This is the highest profit among the three regions.\n",
    "Region 1 (Green Bar):\n",
    "\n",
    "Profit: $24,150,866.97\n",
    "This region has the lowest profit among the three regions.\n",
    "Region 2 (Red Bar):\n",
    "\n",
    "Profit: $26,847,930.01\n",
    "This region's profit is between that of Region 0 and Region 1.\n",
    "\n",
    "Best Performing Region: Region 0 is the best-performing region with the highest profit of 34,016,416.06. This region is clearly the most profitable and should be prioritized for further investment and development if the goal is to maximize profits.\n",
    "Moderate Performance: Region 2 also shows good profitability with a profit of 26,847,930.01. It is a strong performer and could be considered for additional investment, especially if there are opportunities to enhance its profitability.\n",
    "Least Performing Region: Region 1 has the lowest profit at 24,150,866.97. While still profitable, it is the least favorable compared to the other two regions. Any investment in this region should be carefully evaluated to determine if there are ways to improve its profitability or if resources could be better allocated to more profitable regions."
   ]
  },
  {
   "cell_type": "markdown",
   "metadata": {},
   "source": [
    "The profit from the predicted target values of each region, we start by creating a function called get_profit that takes predictions and count as parameters. This function calculates the potential profit based on predicted oil reserve volumes for each region. Inside the function, the predicted volumes are sorted from largest to smallest, and the top 200 values are selected. These values correspond to the largest oil reserves and are summed up. The total sum is then multiplied by the revenue per unit, which is 4,500, and the development budget of 100,000,000 is subtracted to determine the profit. The function returns the rounded profit value. Next, we prepare lists of predicted and actual target values for each region and run the get_profit function on each dataset using a for loop. The resulting profit values are stored in a list. Finally, we print the profit for each region along with the target oil reserve volume required to achieve that profit, formatted in USD. The results show the profit and required oil reserve volume for each of the three regions."
   ]
  },
  {
   "cell_type": "markdown",
   "metadata": {},
   "source": [
    "### Bootstrapping to determine the most profitable region"
   ]
  },
  {
   "cell_type": "markdown",
   "metadata": {},
   "source": [
    "Although determining the profits generated by the top oil reserve predictions is a useful starting point for identifying the most profitable region, it does not provide a comprehensive picture. By selecting the 200 largest oil reserves from each region, we obtained the maximum potential profit. To gain a more accurate understanding of each region's profitability, let's construct a distribution of average profit values for each region. We will achieve this by passing 1,000 samples of 500 oil wells to the get_profit function. The function will calculate the anticipated profit for each sample and save the profit value in a list. Once we have this distribution, we will determine the average profit, 95% confidence interval, and risk of loss for each region."
   ]
  },
  {
   "cell_type": "code",
   "execution_count": 33,
   "metadata": {},
   "outputs": [
    {
     "name": "stdout",
     "output_type": "stream",
     "text": [
      "Region 0\n",
      "Average profit: $3,979,576.23\n",
      "Target oil reserve volume: 23106.57 thousand barrels\n",
      "95% Confidence Interval: -$1,373,889.22 to $9,048,758.00\n",
      "Risk of loss: 6.7%\n",
      "\n",
      "Region 1\n",
      "Average profit: $4,459,483.93\n",
      "Target oil reserve volume: 23213.22 thousand barrels\n",
      "95% Confidence Interval: $560,056.35 to $8,609,616.66\n",
      "Risk of loss: 1.4%\n",
      "\n",
      "Region 2\n",
      "Average profit: $3,895,872.17\n",
      "Target oil reserve volume: 23087.97 thousand barrels\n",
      "95% Confidence Interval: -$1,472,127.22 to $9,141,779.54\n",
      "Risk of loss: 8.4%\n",
      "\n"
     ]
    }
   ],
   "source": [
    "# Use the bootstrapping method with 1000 samples\n",
    "# Collect a distribution of average profits for each region\n",
    "\n",
    "def get_profit_distribution(targets, predictions, count):\n",
    "    '''Function will calculate profit for 1000 samples based on predictions and target values. Pupose\n",
    "       is to collect a average profit distribution.'''\n",
    "    \n",
    "    \n",
    "    # Initialize the random state\n",
    "    state = np.random.RandomState(12345)\n",
    "    \n",
    "    # Initialize the values list\n",
    "    values = []\n",
    "    \n",
    "    # Create a DataFrame consisting of the predictions and targets series.\n",
    "    combined_df = pd.DataFrame()\n",
    "    combined_df['predictions'] = predictions\n",
    "    combined_df['targets'] = targets.reset_index(drop=True)\n",
    "    \n",
    "    # For loop for obtaining 1000 samples and passing them\n",
    "    for i in range (1000):\n",
    "        target_subsample = combined_df.sample(n=500, replace=True, random_state=state).reset_index(drop=True)\n",
    "        values.append(get_profit(target_subsample['targets'], target_subsample['predictions'], count))\n",
    "        \n",
    "        \n",
    "    # Turn the values list into a pandas series\n",
    "    values = pd.Series(values)\n",
    "    \n",
    "    # Calculate the mean of the profits\n",
    "    mean = values.mean()\n",
    "    \n",
    "    \n",
    "    # Obtain the upper and lower bounds of the 95% confidence interval\n",
    "    upper = values.quantile(0.975)\n",
    "    lower = values.quantile(0.025)\n",
    "    \n",
    "    \n",
    "    # Determine the probability of negative profit (loss)\n",
    "    count = 0 \n",
    "    for value in values:\n",
    "        if value < 0:\n",
    "            count += 1\n",
    "    \n",
    "    print(\"Average profit:\", locale.currency(mean, grouping=True))\n",
    "    print(f'Target oil reserve volume: {round((mean + 100_000_000) / 4500,2)} thousand barrels')\n",
    "    print(\"95% Confidence Interval:\", locale.currency(lower, grouping=True), 'to', locale.currency(upper, grouping=True))\n",
    "    print(f\"Risk of loss: {1. * count * 100 / len(values)}%\")\n",
    "    \n",
    "    \n",
    "for i in range(len(predictions)):\n",
    "    print('Region ' + str(i))\n",
    "    get_profit_distribution(targets[i], predictions[i], 200)\n",
    "    print()"
   ]
  },
  {
   "cell_type": "markdown",
   "metadata": {},
   "source": [
    "\n",
    "The provided code employs the bootstrapping method to collect a distribution of average profits for each region. The get_profit_distribution function calculates the profit for 1,000 samples based on predictions and target values to gather an average profit distribution. It initializes a random state for reproducibility and creates a DataFrame combining predictions and targets. Then, for each of the 1,000 iterations, it generates a subsample of 500 oil wells, calculates the profit using the get_profit function, and appends the result to a list. This list of profit values is converted into a pandas Series, from which the mean profit, 95 percent confidence interval, and the risk of loss are calculated and printed.\n",
    "\n",
    "The results for each region provide a detailed insight into the average profit, confidence interval, and risk of loss. For Region 0, the average profit is approximately 3,979,576.23 dollars, with a 95 percent confidence interval ranging from -1,373,889.22 dollars to 9,048,758.00 dollars, indicating a 6.7 percent risk of loss. Region 1 shows a higher average profit of 4,459,483.93 dollars, with a narrower confidence interval from 560,056.35 dollars to 8,609,616.66 dollars and a lower risk of loss at 1.4 percent. Region 2's average profit is 3,895,872.17 dollars, with a confidence interval from -1,472,127.22 dollars to 9,141,779.54 dollars and a risk of loss at 8.4 percent. These results highlight the variability and risk associated with each region's profitability."
   ]
  },
  {
   "cell_type": "code",
   "execution_count": 40,
   "metadata": {},
   "outputs": [
    {
     "data": {
      "image/png": "[encoded data removed]",
      "text/plain": [
       "<Figure size 1000x1500 with 3 Axes>"
      ]
     },
     "metadata": {},
     "output_type": "display_data"
    }
   ],
   "source": [
    "def get_profit(targets, predictions, count):\n",
    "    '''Function will calculate the potential profit based on predicted oil reserve volumes for each region'''\n",
    "    \n",
    "    # Sort the predicted volumes from largest to smallest\n",
    "    predictions_sorted = predictions.sort_values(ascending=False)[:count]\n",
    "    \n",
    "    # Select the largest 200 oil reserve volumes for each region\n",
    "    selected_wells = targets[predictions_sorted.index]\n",
    "    \n",
    "    # Calculate the profit based on one unit producing a revenue of $4,500\n",
    "    # Subtract the budget of $100,000,000 from the total revenue\n",
    "    profit = (4500 * selected_wells.sum()) - 100_000_000\n",
    "    \n",
    "    # Return the profit value\n",
    "    return round(profit, 2)\n",
    "\n",
    "def get_profit_distribution(targets, predictions, count):\n",
    "    '''Function will calculate profit for 1000 samples based on predictions and target values. Purpose\n",
    "       is to collect an average profit distribution.'''\n",
    "    \n",
    "    # Initialize the random state\n",
    "    state = np.random.RandomState(12345)\n",
    "    \n",
    "    # Initialize the values list\n",
    "    values = []\n",
    "    \n",
    "    # Create a DataFrame consisting of the predictions and targets series.\n",
    "    combined_df = pd.DataFrame()\n",
    "    combined_df['predictions'] = predictions\n",
    "    combined_df['targets'] = targets.reset_index(drop=True)\n",
    "    \n",
    "    # For loop for obtaining 1000 samples and passing them\n",
    "    for i in range(1000):\n",
    "        target_subsample = combined_df.sample(n=500, replace=True, random_state=state).reset_index(drop=True)\n",
    "        values.append(get_profit(target_subsample['targets'], target_subsample['predictions'], count))\n",
    "    \n",
    "    # Turn the values list into a pandas series\n",
    "    values = pd.Series(values)\n",
    "    \n",
    "    return values\n",
    "\n",
    "# Example lists of predictions and targets\n",
    "predictions = [\n",
    "    pd.Series(np.random.rand(500)),\n",
    "    pd.Series(np.random.rand(500)),\n",
    "    pd.Series(np.random.rand(500))\n",
    "]\n",
    "\n",
    "targets = [\n",
    "    pd.Series(np.random.rand(500)),\n",
    "    pd.Series(np.random.rand(500)),\n",
    "    pd.Series(np.random.rand(500))\n",
    "]\n",
    "\n",
    "# Set locale to USD\n",
    "locale.setlocale(locale.LC_ALL, '')\n",
    "\n",
    "# Collect profit distributions for each region\n",
    "profit_distributions = []\n",
    "for i in range(len(predictions)):\n",
    "    profit_distributions.append(get_profit_distribution(targets[i], predictions[i], 200))\n",
    "\n",
    "# Plotting histograms for average profits by region\n",
    "fig, axes = plt.subplots(3, 1, figsize=(10, 15), sharex=True)\n",
    "\n",
    "regions = ['Region 0', 'Region 1', 'Region 2']\n",
    "colors = ['blue', 'green', 'red']\n",
    "\n",
    "for i, ax in enumerate(axes):\n",
    "    ax.hist(profit_distributions[i], bins=50, color=colors[i], edgecolor='black')\n",
    "    ax.set_title(f'Profit Distribution for {regions[i]}')\n",
    "    ax.set_xlabel('Profit (in dollars)')\n",
    "    ax.set_ylabel('Number of Samples')\n",
    "\n",
    "plt.tight_layout()\n",
    "plt.show()"
   ]
  },
  {
   "cell_type": "markdown",
   "metadata": {},
   "source": [
    "Region 0 (Top Histogram):\n",
    "\n",
    "The histogram is shaped like a normal distribution, with the most frequent profit values centered around a peak.\n",
    "The majority of profit values range between approximately 0 to 6 million dollars.\n",
    "The distribution shows a few outliers with higher profit values, indicating the variability in profit outcomes.\n",
    "\n",
    "Region 1 (Middle Histogram):\n",
    "\n",
    "Similar to Region 0, the histogram for Region 1 is also approximately normally distributed.\n",
    "The profits are more tightly clustered around the center, with a narrower range compared to Region 0.\n",
    "Most profit values fall between approximately 2 to 7 million dollars, suggesting more consistent profit outcomes for this region.\n",
    "\n",
    "Region 2 (Bottom Histogram):\n",
    "\n",
    "The histogram for Region 2 shows a distribution with a slightly skewed shape.\n",
    "Most profit values are concentrated between 1 to 6 million dollars.\n",
    "There are a few outliers on both the lower and higher ends, indicating some variability in profit outcomes, but less consistent than Region 1."
   ]
  },
  {
   "cell_type": "markdown",
   "metadata": {},
   "source": [
    "Overall, these histograms help to compare the profit distributions across different regions, showing which regions tend to have higher or more consistent profits. Region 1 appears to have the most tightly clustered profits, suggesting more predictability, while Region 0 and Region 2 show more variability."
   ]
  },
  {
   "cell_type": "markdown",
   "metadata": {},
   "source": [
    "## Conclusion"
   ]
  },
  {
   "cell_type": "markdown",
   "metadata": {},
   "source": [
    "The analysis of oil reserves and profitability using Linear Regression models and bootstrapping methods has provided comprehensive insights into the potential financial outcomes for OilyGiant Mining Company. The Linear Regression models trained on data from three different regions showed varying levels of predictive accuracy. For Region 1, the model demonstrated high precision with an average predicted reserve volume of 68.462 thousand barrels and an RMSE of 0.895, indicating a close alignment between predicted and actual values. Regions 0 and 2 showed moderate accuracy, with predicted reserve volumes of 92.611 and 95.213 thousand barrels, respectively, and RMSE values of 37.823 and 40.111, suggesting some variability in predictions. These models serve as a foundational tool for estimating oil reserves, providing a clear starting point for further profitability analysis.\n",
    "\n",
    "The profitability analysis, enhanced through the bootstrapping method, offers a nuanced understanding of each region's financial viability. By calculating the profit for 1,000 samples of 500 oil wells, the get_profit_distribution function generated distributions of average profits, confidence intervals, and risks of loss. For Region 0, the average profit was approximately 3,979,576.23 dollars with a 6.7 percent risk of loss. Region 1 showed a higher average profit of 4,459,483.93 dollars and a lower risk of loss at 1.4 percent, indicating more stable profitability. Region 2 had an average profit of 3,895,872.17 dollars with an 8.4 percent risk of loss. These results underscore the importance of considering both the average profit and the associated risks when making investment decisions. Overall, the analysis provides a detailed and robust framework for evaluating the financial prospects of oil reserves across different regions, aiding in strategic planning and risk management for OilyGiant Mining Company."
   ]
  }
 ],
 "metadata": {
  "ExecuteTimeLog": [
   {
    "duration": 1302,
    "start_time": "2024-06-12T17:18:40.708Z"
   },
   {
    "duration": 593,
    "start_time": "2024-06-12T17:22:29.253Z"
   },
   {
    "duration": 398,
    "start_time": "2024-06-12T17:22:42.008Z"
   },
   {
    "duration": 25,
    "start_time": "2024-06-12T17:25:32.289Z"
   },
   {
    "duration": 27,
    "start_time": "2024-06-12T17:27:21.796Z"
   },
   {
    "duration": 51,
    "start_time": "2024-06-12T17:27:41.972Z"
   },
   {
    "duration": 15,
    "start_time": "2024-06-12T20:32:53.510Z"
   },
   {
    "duration": 52,
    "start_time": "2024-06-12T20:50:42.713Z"
   },
   {
    "duration": 547,
    "start_time": "2024-06-12T21:21:47.840Z"
   },
   {
    "duration": 24,
    "start_time": "2024-06-12T21:22:30.414Z"
   },
   {
    "duration": 21,
    "start_time": "2024-06-12T21:33:01.093Z"
   },
   {
    "duration": 15,
    "start_time": "2024-06-12T21:33:03.957Z"
   },
   {
    "duration": 17,
    "start_time": "2024-06-12T21:33:28.729Z"
   },
   {
    "duration": 18,
    "start_time": "2024-06-12T21:33:59.602Z"
   },
   {
    "duration": 17,
    "start_time": "2024-06-12T21:34:12.772Z"
   },
   {
    "duration": 18,
    "start_time": "2024-06-12T21:35:14.420Z"
   },
   {
    "duration": 11,
    "start_time": "2024-06-13T15:48:15.294Z"
   },
   {
    "duration": 10,
    "start_time": "2024-06-13T15:51:02.392Z"
   },
   {
    "duration": 7,
    "start_time": "2024-06-13T15:51:30.373Z"
   },
   {
    "duration": 5,
    "start_time": "2024-06-13T15:52:15.575Z"
   },
   {
    "duration": 6,
    "start_time": "2024-06-13T16:43:53.586Z"
   },
   {
    "duration": 7,
    "start_time": "2024-06-13T16:44:16.314Z"
   },
   {
    "duration": 357,
    "start_time": "2024-06-13T16:44:39.555Z"
   },
   {
    "duration": 1257,
    "start_time": "2024-06-13T16:44:57.041Z"
   },
   {
    "duration": 517,
    "start_time": "2024-06-13T16:44:58.302Z"
   },
   {
    "duration": 23,
    "start_time": "2024-06-13T16:44:58.822Z"
   },
   {
    "duration": 46,
    "start_time": "2024-06-13T16:44:58.851Z"
   },
   {
    "duration": 37,
    "start_time": "2024-06-13T16:44:58.901Z"
   },
   {
    "duration": 54,
    "start_time": "2024-06-13T16:44:58.943Z"
   },
   {
    "duration": 56,
    "start_time": "2024-06-13T16:44:59.000Z"
   },
   {
    "duration": 90,
    "start_time": "2024-06-13T16:44:59.059Z"
   },
   {
    "duration": 91,
    "start_time": "2024-06-13T16:44:59.152Z"
   },
   {
    "duration": 6,
    "start_time": "2024-06-13T16:44:59.247Z"
   },
   {
    "duration": 278,
    "start_time": "2024-06-13T16:44:59.256Z"
   },
   {
    "duration": 40,
    "start_time": "2024-06-13T16:46:54.676Z"
   },
   {
    "duration": 59,
    "start_time": "2024-06-13T16:47:29.822Z"
   },
   {
    "duration": 53,
    "start_time": "2024-06-13T16:48:07.845Z"
   },
   {
    "duration": 87,
    "start_time": "2024-06-13T16:48:17.495Z"
   },
   {
    "duration": 82,
    "start_time": "2024-06-13T16:48:26.390Z"
   },
   {
    "duration": 30,
    "start_time": "2024-06-13T16:48:42.486Z"
   },
   {
    "duration": 11,
    "start_time": "2024-06-13T17:42:11.250Z"
   },
   {
    "duration": 12,
    "start_time": "2024-06-13T17:42:16.835Z"
   },
   {
    "duration": 62,
    "start_time": "2024-06-13T17:42:37.666Z"
   },
   {
    "duration": 95,
    "start_time": "2024-06-13T17:46:58.909Z"
   },
   {
    "duration": 87,
    "start_time": "2024-06-13T17:47:23.862Z"
   },
   {
    "duration": 66,
    "start_time": "2024-06-13T17:48:19.142Z"
   },
   {
    "duration": 3510,
    "start_time": "2024-06-13T17:50:06.423Z"
   },
   {
    "duration": 4079,
    "start_time": "2024-06-13T17:59:48.700Z"
   },
   {
    "duration": 18,
    "start_time": "2024-06-13T18:00:09.069Z"
   },
   {
    "duration": 3574,
    "start_time": "2024-06-13T18:00:18.191Z"
   },
   {
    "duration": 4511,
    "start_time": "2024-06-13T18:03:04.879Z"
   },
   {
    "duration": 4603,
    "start_time": "2024-06-13T18:06:55.776Z"
   },
   {
    "duration": 4646,
    "start_time": "2024-06-13T18:08:32.120Z"
   },
   {
    "duration": 4827,
    "start_time": "2024-06-13T19:45:29.630Z"
   },
   {
    "duration": 325,
    "start_time": "2024-06-13T19:53:31.791Z"
   },
   {
    "duration": 387,
    "start_time": "2024-06-13T20:04:26.710Z"
   }
  ],
  "kernelspec": {
   "display_name": "Python 3 (ipykernel)",
   "language": "python",
   "name": "python3"
  },
  "language_info": {
   "codemirror_mode": {
    "name": "ipython",
    "version": 3
   },
   "file_extension": ".py",
   "mimetype": "text/x-python",
   "name": "python",
   "nbconvert_exporter": "python",
   "pygments_lexer": "ipython3",
   "version": "3.9.19"
  },
  "toc": {
   "base_numbering": 1,
   "nav_menu": {},
   "number_sections": true,
   "sideBar": true,
   "skip_h1_title": true,
   "title_cell": "Table of Contents",
   "title_sidebar": "Contents",
   "toc_cell": false,
   "toc_position": {},
   "toc_section_display": true,
   "toc_window_display": false
  }
 },
 "nbformat": 4,
 "nbformat_minor": 2
}
